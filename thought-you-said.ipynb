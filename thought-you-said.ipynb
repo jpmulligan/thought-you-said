{
 "cells": [
  {
   "cell_type": "markdown",
   "metadata": {},
   "source": [
    "# Thought you said...\n",
    "### Playing with phonetic algorithms\n"
   ]
  },
  {
   "cell_type": "code",
   "execution_count": 253,
   "metadata": {
    "collapsed": true
   },
   "outputs": [],
   "source": [
    "import fuzzy\n",
    "import string\n",
    "import random"
   ]
  },
  {
   "cell_type": "code",
   "execution_count": 254,
   "metadata": {},
   "outputs": [],
   "source": [
    "dmeta = fuzzy.DMetaphone()\n",
    "soundex = fuzzy.Soundex(4)\n"
   ]
  },
  {
   "cell_type": "code",
   "execution_count": 261,
   "metadata": {},
   "outputs": [
    {
     "name": "stdout",
     "output_type": "stream",
     "text": [
      "count = 10000\n"
     ]
    },
    {
     "data": {
      "text/plain": [
       "['price', b'PRK', None, 'P620', 'PRAC']"
      ]
     },
     "execution_count": 261,
     "metadata": {},
     "output_type": "execute_result"
    }
   ],
   "source": [
    "wordfile = 'google-10000-english.txt'\n",
    "#wordfile = 'words.txt'\n",
    "wordlist = []\n",
    "f = open(wordfile, 'r')\n",
    "\n",
    "for word in f:\n",
    "    dm = dmeta(word)\n",
    "    #i = 0\n",
    "    #for i in range(len(dm)):\n",
    "    #    if (type(dm[i]) == bytes):\n",
    "    #        dm[i] = dm[i].decode('utf-8')\n",
    "    wordlist.append([word.strip('\\n'),dm[0],dm[1],soundex(word),fuzzy.nysiis(word)])\n",
    "print('count =', len(wordlist))\n",
    "\n",
    "wordlist[100]"
   ]
  },
  {
   "cell_type": "code",
   "execution_count": 262,
   "metadata": {},
   "outputs": [
    {
     "name": "stdout",
     "output_type": "stream",
     "text": [
      "target =  ['tender', b'TNTR', None, 'T536', 'TANDAR']\n",
      "Did you say tender? I thought you said...\n"
     ]
    }
   ],
   "source": [
    "target_word = 'tender'\n",
    "\n",
    "target = [target_word,None,None]\n",
    "target[1], target[2] = dmeta(target_word)\n",
    "target.append(soundex(target_word))\n",
    "target.append(fuzzy.nysiis(target_word))\n",
    "print('target = ', target)\n",
    "\n",
    "print('Did you say ' + target_word + '? I thought you said...')\n",
    "for word in wordlist:\n",
    "    if(target[1:] == word[1:]):\n",
    "        if(word[0] != target[0]):\n",
    "            print(word[0])\n",
    "        "
   ]
  },
  {
   "cell_type": "code",
   "execution_count": 284,
   "metadata": {
    "collapsed": true
   },
   "outputs": [],
   "source": [
    "def soundslike(target_word = 'price'):\n",
    "\n",
    "    result_list = []\n",
    "    target = [target_word,None,None]\n",
    "    target[1], target[2] = dmeta(target_word)\n",
    "    target.append(soundex(target_word))\n",
    "    target.append(fuzzy.nysiis(target_word))\n",
    "\n",
    "    for word in wordlist:\n",
    "        if(target[1:] == word[1:]):\n",
    "            if(word[0] != target[0]):\n",
    "                result_list.append(word[0])\n",
    "    return result_list"
   ]
  },
  {
   "cell_type": "code",
   "execution_count": 285,
   "metadata": {},
   "outputs": [
    {
     "data": {
      "text/plain": [
       "['grown', 'grain', 'greene']"
      ]
     },
     "execution_count": 285,
     "metadata": {},
     "output_type": "execute_result"
    }
   ],
   "source": [
    "soundslike('green')"
   ]
  },
  {
   "cell_type": "code",
   "execution_count": 287,
   "metadata": {},
   "outputs": [
    {
     "name": "stdout",
     "output_type": "stream",
     "text": [
      "playing with phonetic algorithm and fuzzy strange matching \n"
     ]
    }
   ],
   "source": [
    "sentence = \"\"\"\n",
    "Playing with phonetic algorithms and fuzzy string matching\n",
    "\"\"\"\n",
    "new_sentence = ''\n",
    "skip_list = ['the','a','i','and','but','or','for','nor']\n",
    "translator = str.maketrans('', '', string.punctuation)\n",
    "s = sentence.translate(translator).split()\n",
    "\n",
    "for w in s:\n",
    "    matches = soundslike(w)\n",
    "    if (len(matches) > 0 and w.lower() not in skip_list):\n",
    "        w = matches[random.randrange(len(matches))]\n",
    "    new_sentence += w + ' '\n",
    "\n",
    "print(new_sentence)\n",
    "        "
   ]
  },
  {
   "cell_type": "code",
   "execution_count": null,
   "metadata": {
    "collapsed": true
   },
   "outputs": [],
   "source": []
  },
  {
   "cell_type": "code",
   "execution_count": null,
   "metadata": {
    "collapsed": true
   },
   "outputs": [],
   "source": []
  }
 ],
 "metadata": {
  "kernelspec": {
   "display_name": "Python 3",
   "language": "python",
   "name": "python3"
  },
  "language_info": {
   "codemirror_mode": {
    "name": "ipython",
    "version": 3
   },
   "file_extension": ".py",
   "mimetype": "text/x-python",
   "name": "python",
   "nbconvert_exporter": "python",
   "pygments_lexer": "ipython3",
   "version": "3.6.2"
  }
 },
 "nbformat": 4,
 "nbformat_minor": 2
}
